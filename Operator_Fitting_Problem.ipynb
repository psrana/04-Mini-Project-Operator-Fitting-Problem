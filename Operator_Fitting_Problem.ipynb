{
  "nbformat": 4,
  "nbformat_minor": 0,
  "metadata": {
    "colab": {
      "name": "Operator Fitting Problem.ipynb",
      "provenance": [],
      "collapsed_sections": [],
      "include_colab_link": true
    },
    "kernelspec": {
      "display_name": "Python 3",
      "language": "python",
      "name": "python3"
    },
    "language_info": {
      "codemirror_mode": {
        "name": "ipython",
        "version": 3
      },
      "file_extension": ".py",
      "mimetype": "text/x-python",
      "name": "python",
      "nbconvert_exporter": "python",
      "pygments_lexer": "ipython3",
      "version": "3.8.5"
    }
  },
  "cells": [
    {
      "cell_type": "markdown",
      "metadata": {
        "id": "view-in-github",
        "colab_type": "text"
      },
      "source": [
        "<a href=\"https://colab.research.google.com/github/psrana/04-Mini-Project-Operator-Fitting-Problem/blob/main/Operator_Fitting_Problem.ipynb\" target=\"_parent\"><img src=\"https://colab.research.google.com/assets/colab-badge.svg\" alt=\"Open In Colab\"/></a>"
      ]
    },
    {
      "cell_type": "markdown",
      "metadata": {
        "id": "7nQSRI4Dim1Y"
      },
      "source": [
        "  ---\n",
        "# **Operator Fitting Problem**\n",
        "---\n",
        "####**Problem Statement:**\n",
        "- Fill in the blanks with operator\n",
        "- 6 _ 5 _ 4 _ 3 _ 2 = 32\n",
        "---"
      ]
    },
    {
      "cell_type": "markdown",
      "metadata": {
        "id": "A30y-VtNim1h"
      },
      "source": [
        "### **1. Library inclusion**"
      ]
    },
    {
      "cell_type": "code",
      "metadata": {
        "id": "cF_mSA9Xim1j"
      },
      "source": [
        "import random as r"
      ],
      "execution_count": 1,
      "outputs": []
    },
    {
      "cell_type": "markdown",
      "metadata": {
        "id": "UjvBYy0Lim1m"
      },
      "source": [
        "### **2. Parameter Setting**"
      ]
    },
    {
      "cell_type": "code",
      "metadata": {
        "id": "NHB2KMhZim1o"
      },
      "source": [
        "#Parameter Setting\n",
        "seq     = ['6','5','4','3','2']\n",
        "op      = ['+','-','*','/']\n",
        "Target  = 32\n",
        "Iterations  = 10000    # Number of Inerations"
      ],
      "execution_count": 2,
      "outputs": []
    },
    {
      "cell_type": "markdown",
      "metadata": {
        "id": "BTLd3s--im1c"
      },
      "source": [
        "### **3. Single Run**\n",
        "\n",
        "\n"
      ]
    },
    {
      "cell_type": "code",
      "metadata": {
        "id": "veBU-f21im1x",
        "colab": {
          "base_uri": "https://localhost:8080/"
        },
        "outputId": "d0f86d2f-6eb8-439e-afaf-692d56181503"
      },
      "source": [
        "finalSeq = []\n",
        "finalSeq.append(seq[0])\n",
        "print(finalSeq)\n",
        "\n",
        "for i in seq[1:]:\n",
        "  finalSeq.append(''.join(r.sample(op,1)))\n",
        "  finalSeq.append(i)\n",
        "  print(finalSeq)\n",
        "\n",
        "exp=''.join(finalSeq)\n",
        "print(\"\\nExpression: \", exp)\n",
        "\n",
        "print(\"Expression Value: \", eval(exp))\n",
        "  \n"
      ],
      "execution_count": 3,
      "outputs": [
        {
          "output_type": "stream",
          "name": "stdout",
          "text": [
            "['6']\n",
            "['6', '*', '5']\n",
            "['6', '*', '5', '/', '4']\n",
            "['6', '*', '5', '/', '4', '/', '3']\n",
            "['6', '*', '5', '/', '4', '/', '3', '+', '2']\n",
            "\n",
            "Expression:  6*5/4/3+2\n",
            "Expression Value:  4.5\n"
          ]
        }
      ]
    },
    {
      "cell_type": "markdown",
      "metadata": {
        "id": "VBOTEZppIIDh"
      },
      "source": [
        "### **4. Start Program**\n",
        "\n",
        "\n"
      ]
    },
    {
      "cell_type": "code",
      "metadata": {
        "colab": {
          "base_uri": "https://localhost:8080/"
        },
        "outputId": "19dd6805-e003-4d10-d4b1-28e6ad540a85",
        "id": "uvuFtJSmIIDj"
      },
      "source": [
        "# Loop till number of Iterations\n",
        "\n",
        "f=0\n",
        "for i in range(Iterations):\n",
        "\n",
        "  finalSeq = []\n",
        "  finalSeq.append(seq[0])\n",
        "  for i in seq[1:]:\n",
        "    finalSeq.append(''.join(r.sample(op,1)))\n",
        "    finalSeq.append(i)\n",
        "  \n",
        "  exp=''.join(finalSeq)\n",
        "  print (exp, \"  \", eval(exp))\n",
        "\n",
        "  if eval(exp) == Target:\n",
        "    f=1\n",
        "    break\n",
        "\n",
        "    \n",
        "if f==0:\n",
        "  print(\"No Sequence found !!\")"
      ],
      "execution_count": 4,
      "outputs": [
        {
          "output_type": "stream",
          "name": "stdout",
          "text": [
            "6/5-4+3*2    3.2\n",
            "6+5*4/3*2    19.333333333333336\n",
            "6*5+4*3-2    40\n",
            "6*5/4-3/2    6.0\n",
            "6*5+4-3/2    32.5\n",
            "6+5*4+3*2    32\n"
          ]
        }
      ]
    }
  ]
}